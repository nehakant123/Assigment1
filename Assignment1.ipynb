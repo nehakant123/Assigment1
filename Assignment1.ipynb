{
 "cells": [
  {
   "cell_type": "code",
   "execution_count": 1,
   "id": "eadac373-98a2-4770-ad2e-5bafac234a88",
   "metadata": {},
   "outputs": [
    {
     "name": "stdin",
     "output_type": "stream",
     "text": [
      "Enter value of n: 4\n"
     ]
    },
    {
     "name": "stdout",
     "output_type": "stream",
     "text": [
      "4.0\n"
     ]
    }
   ],
   "source": [
    "value=float(input(\"Enter value of n:\"))\n",
    "print(value)"
   ]
  },
  {
   "cell_type": "code",
   "execution_count": 2,
   "id": "fe5a13a3-36a3-4dd2-8eb7-dc6ad4f4230d",
   "metadata": {},
   "outputs": [
    {
     "name": "stdin",
     "output_type": "stream",
     "text": [
      " 3.5\n"
     ]
    },
    {
     "name": "stdout",
     "output_type": "stream",
     "text": [
      "n =3.5 is not integer\n"
     ]
    },
    {
     "name": "stdin",
     "output_type": "stream",
     "text": [
      " 5.6\n"
     ]
    },
    {
     "name": "stdout",
     "output_type": "stream",
     "text": [
      "n =5.6 is not integer\n"
     ]
    },
    {
     "name": "stdin",
     "output_type": "stream",
     "text": [
      " 6.7\n"
     ]
    },
    {
     "name": "stdout",
     "output_type": "stream",
     "text": [
      "n =6.7 is not integer\n"
     ]
    },
    {
     "name": "stdin",
     "output_type": "stream",
     "text": [
      " 2\n"
     ]
    },
    {
     "name": "stdout",
     "output_type": "stream",
     "text": [
      "n =2 is an integer\n",
      "n =2 is even\n"
     ]
    }
   ],
   "source": [
    "i=1\n",
    "while(i>0):\n",
    "    value=input()\n",
    "    if(value.isnumeric()):\n",
    "        i=-1\n",
    "        print(\"n =\"+value+\" is an integer\")\n",
    "    else:\n",
    "        i=i+1\n",
    "        print(\"n =\"+value+\" is not integer\")\n",
    "        \n",
    "if(i==-1):\n",
    "    if(int((value))%2==0):\n",
    "        print(\"n =\"+value+\" is even\")\n",
    "    else:\n",
    "         print(\"n =\"+value+\"is odd\")"
   ]
  },
  {
   "cell_type": "code",
   "execution_count": 3,
   "id": "dd28ab56-e0c7-4d7b-9313-ac129ebbc64d",
   "metadata": {},
   "outputs": [
    {
     "name": "stdin",
     "output_type": "stream",
     "text": [
      " 4\n",
      " 1\n",
      " 2\n",
      " 3\n",
      " 4\n"
     ]
    },
    {
     "name": "stdout",
     "output_type": "stream",
     "text": [
      "[1 2 3 4]\n"
     ]
    }
   ],
   "source": [
    "import numpy as np\n",
    "n=int(input())\n",
    "arr=np.array([0]*n)\n",
    "for i in range(0,n):\n",
    "    a=input()\n",
    "    arr[i] =a \n",
    "\n",
    "print(arr)"
   ]
  },
  {
   "cell_type": "code",
   "execution_count": 4,
   "id": "7acf18c8-8043-4e4d-ae67-b67e54c934e0",
   "metadata": {},
   "outputs": [
    {
     "name": "stdin",
     "output_type": "stream",
     "text": [
      " 5\n",
      " 90\n",
      " 69\n",
      " 0\n",
      " -1\n",
      " -3\n",
      " 4\n",
      " 2\n",
      " 3\n",
      " 7\n",
      " 406\n",
      " 11\n",
      " -12\n",
      " -3\n",
      " 43\n",
      " 33\n",
      " 7\n",
      " 7\n",
      " -1\n",
      " -9\n",
      " -100\n",
      " 100\n",
      " 62\n",
      " 2\n",
      " 1\n",
      " 11\n"
     ]
    },
    {
     "name": "stdout",
     "output_type": "stream",
     "text": [
      "Original matrix: \n",
      "[[  90   69    0   -1   -3]\n",
      " [   4    2    3    7  406]\n",
      " [  11  -12   -3   43   33]\n",
      " [   7    7   -1   -9 -100]\n",
      " [ 100   62    2    1   11]]\n",
      "____________________________________________________________________________________________________ \n",
      "\n",
      "[[  90   69    0   -1   -3]\n",
      " [   4    2    3    7  406]\n",
      " [  11  -12   -3   43   33]\n",
      " [   7    7   -1   -9 -100]\n",
      " [ 100   62    2    1   11]]\n",
      "[[  90   69    0   -1   -3]\n",
      " [   4  406    3    7    2]\n",
      " [  11  -12   -3   43   33]\n",
      " [   7    7   -1   -9 -100]\n",
      " [ 100   62    2    1   11]]\n",
      "[[  90   69    0   -1   -3]\n",
      " [   4  406    3    7    2]\n",
      " [  11  -12   43   -3   33]\n",
      " [   7    7   -1   -9 -100]\n",
      " [ 100   62    2    1   11]]\n",
      "[[  90   69    0   -1   -3]\n",
      " [   4  406    3    7    2]\n",
      " [  11  -12   43   -3   33]\n",
      " [   7    7   -1 -100   -9]\n",
      " [ 100   62    2    1   11]]\n",
      "[[  90   69    0   -1   -3]\n",
      " [   4  406    3    7    2]\n",
      " [  11  -12   43   -3   33]\n",
      " [   7    7   -1 -100   -9]\n",
      " [  11   62    2    1  100]]\n",
      "____________________________________________________________________________________________________ \n",
      "\n",
      "Matrix obtained is: \n",
      "[[  90   69    0   -1   -3]\n",
      " [   4  406    3    7    2]\n",
      " [  11  -12   43   -3   33]\n",
      " [   7    7   -1 -100   -9]\n",
      " [  11   62    2    1  100]]\n"
     ]
    }
   ],
   "source": [
    "import numpy as np\n",
    "def diagonallyDominant(arr,n, verbose=False):\n",
    "    for i in range(0,n):\n",
    "        max=0\n",
    "        i1=0\n",
    "        j1=0 \n",
    "        for j in range(0,n):\n",
    "            if(abs(max)<abs(arr[i][j])):\n",
    "                max=arr[i][j] \n",
    "                i1=i\n",
    "                j1=j\n",
    "        arr[i1][j1]=arr[i][i]\n",
    "        arr[i][i]=max\n",
    "        print(arr)                 \n",
    "\n",
    "    return arr\n",
    "\n",
    "n=int(input())\n",
    "a=np.array([0]*(n*n))\n",
    "for i in range(0,(n*n)):\n",
    "    b=int(input())\n",
    "    a[i]=b\n",
    "arr=a.reshape(n,n)\n",
    "    \n",
    "print(\"Original matrix: \")\n",
    "print(arr)\n",
    "print(\"_\"*100,\"\\n\")\n",
    "\n",
    "A = diagonallyDominant(arr,n, verbose=True)\n",
    "print(\"_\"*100,\"\\n\")\n",
    "\n",
    "print(\"Matrix obtained is: \")\n",
    "print(A)"
   ]
  },
  {
   "cell_type": "code",
   "execution_count": 5,
   "id": "9ee56d74-7ec1-4eca-ac9a-ce82642d4116",
   "metadata": {},
   "outputs": [
    {
     "name": "stdin",
     "output_type": "stream",
     "text": [
      " 5\n",
      " 90\n",
      " 69\n",
      " 0\n",
      " -1\n",
      " -3\n",
      " 4\n",
      " 2\n",
      " 3\n",
      " 7\n",
      " 406\n",
      " 11\n",
      " -12\n",
      " -3\n",
      " 43\n",
      " 33\n",
      " 7\n",
      " 7\n",
      " -1\n",
      " -9\n",
      " -100\n",
      " 100\n",
      " 62\n",
      " 2\n",
      " 1\n",
      " 11\n"
     ]
    },
    {
     "name": "stdout",
     "output_type": "stream",
     "text": [
      "Original matrix: \n",
      "[[  90   69    0   -1   -3]\n",
      " [   4    2    3    7  406]\n",
      " [  11  -12   -3   43   33]\n",
      " [   7    7   -1   -9 -100]\n",
      " [ 100   62    2    1   11]]\n",
      "____________________________________________________________________________________________________ \n",
      "\n",
      "[[  90   69    0   -1   -3]\n",
      " [   4    2    3    7  406]\n",
      " [  11  -12   -3   43   33]\n",
      " [   7    7   -1   -9 -100]\n",
      " [ 100   62    2    1   11]]\n",
      "[[  90   69    0   -1   -3]\n",
      " [   4  406    3    7    2]\n",
      " [  11  -12   -3   43   33]\n",
      " [   7    7   -1   -9 -100]\n",
      " [ 100   62    2    1   11]]\n",
      "[[  90   69    0   -1   -3]\n",
      " [   4  406    3    7    2]\n",
      " [  11  -12   43   -3   33]\n",
      " [   7    7   -1   -9 -100]\n",
      " [ 100   62    2    1   11]]\n",
      "[[  90   69    0   -1   -3]\n",
      " [   4  406    3    7    2]\n",
      " [  11  -12   43   -3   33]\n",
      " [   7    7   -1 -100   -9]\n",
      " [ 100   62    2    1   11]]\n",
      "[[  90   69    0   -1   -3]\n",
      " [   4  406    3    7    2]\n",
      " [  11  -12   43   -3   33]\n",
      " [   7    7   -1 -100   -9]\n",
      " [  11   62    2    1  100]]\n",
      "____________________________________________________________________________________________________ \n",
      "\n",
      "Matrix obtained is: \n",
      "[[  90   69    0   -1   -3]\n",
      " [   4  406    3    7    2]\n",
      " [  11  -12   43   -3   33]\n",
      " [   7    7   -1 -100   -9]\n",
      " [  11   62    2    1  100]]\n",
      "[[  90   69    0   -1   -3]\n",
      " [   4  406    3    7    2]\n",
      " [  11  -12   43   -3   33]\n",
      " [   7    7   -1 -100   -9]\n",
      " [  11   62    2    1  100]] \n",
      " is not diagonally dominant\n"
     ]
    }
   ],
   "source": [
    "import numpy as np\n",
    "def diagonallyDominant(arr,n, verbose=False):\n",
    "    for i in range(0,n):\n",
    "        max=0\n",
    "        i1=0\n",
    "        j1=0 \n",
    "        for j in range(0,n):\n",
    "            if(abs(max)<abs(arr[i][j])):\n",
    "                max=arr[i][j] \n",
    "                i1=i\n",
    "                j1=j\n",
    "        arr[i1][j1]=arr[i][i]\n",
    "        arr[i][i]=max\n",
    "        print(arr)                 \n",
    "\n",
    "    return arr\n",
    "\n",
    "n=int(input())\n",
    "a=np.array([0]*(n*n))\n",
    "for i in range(0,(n*n)):\n",
    "    b=int(input())\n",
    "    a[i]=b\n",
    "arr=a.reshape(n,n)\n",
    "    \n",
    "print(\"Original matrix: \")\n",
    "print(arr)\n",
    "print(\"_\"*100,\"\\n\")\n",
    "\n",
    "A = diagonallyDominant(arr,n, verbose=True)\n",
    "print(\"_\"*100,\"\\n\")\n",
    "\n",
    "print(\"Matrix obtained is: \")\n",
    "print(A)\n",
    "row_sum=0\n",
    "cnt=0\n",
    "sum=0\n",
    "arr=A\n",
    "for i in range(0,n):\n",
    "    max=abs(arr[i][i])\n",
    "    sum=0\n",
    "    for j in range(0,n):\n",
    "     sum=sum+abs(arr[i][j])\n",
    "    sum=sum-max\n",
    "    if(max>=sum):\n",
    "        cnt=cnt+1\n",
    "\n",
    "if (cnt==n):\n",
    "  print(f\"{A} is diagonally dominant\")\n",
    "  \n",
    "else :\n",
    "  print(f\"{A} \\n is not diagonally dominant\")"
   ]
  },
  {
   "cell_type": "code",
   "execution_count": 6,
   "id": "02ea1e38-7b6e-4fa6-9db1-53c592be38d8",
   "metadata": {},
   "outputs": [
    {
     "name": "stdin",
     "output_type": "stream",
     "text": [
      " 5\n",
      " 90\n",
      " 69\n",
      " 0\n",
      " -1\n",
      " -3\n",
      " 4\n",
      " 2\n",
      " 3\n",
      " 7\n",
      " 406\n",
      " 11\n",
      " -12\n",
      " -3\n",
      " 43\n",
      " 33\n",
      " 7\n",
      " 7\n",
      " -1\n",
      " -9\n",
      " -100\n",
      " 100\n",
      " 62\n",
      " 2\n",
      " 1\n",
      " 11\n"
     ]
    },
    {
     "name": "stdout",
     "output_type": "stream",
     "text": [
      "Original matrix: \n",
      "[[  90   69    0   -1   -3]\n",
      " [   4    2    3    7  406]\n",
      " [  11  -12   -3   43   33]\n",
      " [   7    7   -1   -9 -100]\n",
      " [ 100   62    2    1   11]]\n",
      "____________________________________________________________________________________________________ \n",
      "\n",
      "[[  90   69    0   -1   -3]\n",
      " [   4    2    3    7  406]\n",
      " [  11  -12   -3   43   33]\n",
      " [   7    7   -1   -9 -100]\n",
      " [ 100   62    2    1   11]]\n",
      "[[  90   69    0   -1   -3]\n",
      " [   4  406    3    7    2]\n",
      " [  11  -12   -3   43   33]\n",
      " [   7    7   -1   -9 -100]\n",
      " [ 100   62    2    1   11]]\n",
      "[[  90   69    0   -1   -3]\n",
      " [   4  406    3    7    2]\n",
      " [  11  -12   43   -3   33]\n",
      " [   7    7   -1   -9 -100]\n",
      " [ 100   62    2    1   11]]\n",
      "[[  90   69    0   -1   -3]\n",
      " [   4  406    3    7    2]\n",
      " [  11  -12   43   -3   33]\n",
      " [   7    7   -1 -100   -9]\n",
      " [ 100   62    2    1   11]]\n",
      "[[  90   69    0   -1   -3]\n",
      " [   4  406    3    7    2]\n",
      " [  11  -12   43   -3   33]\n",
      " [   7    7   -1 -100   -9]\n",
      " [  11   62    2    1  100]]\n",
      "____________________________________________________________________________________________________ \n",
      "\n",
      "Matrix obtained is: \n",
      "[[  90   69    0   -1   -3]\n",
      " [   4  406    3    7    2]\n",
      " [  11  -12   43   -3   33]\n",
      " [   7    7   -1 -100   -9]\n",
      " [  11   62    2    1  100]]\n",
      "Row index = 2\n",
      "Elements : 11 -12 43 -3 33 \n",
      "[[  90   69    0   -1   -3]\n",
      " [   4  406    3    7    2]\n",
      " [  11  -12   43   -3   33]\n",
      " [   7    7   -1 -100   -9]\n",
      " [  11   62    2    1  100]] \n",
      " is not diagonally dominant\n"
     ]
    }
   ],
   "source": [
    "import numpy as np\n",
    "def diagonallyDominant(arr,n, verbose=False):\n",
    "    for i in range(0,n):\n",
    "        max=0\n",
    "        i1=0\n",
    "        j1=0 \n",
    "        for j in range(0,n):\n",
    "            if(abs(max)<abs(arr[i][j])):\n",
    "                max=arr[i][j] \n",
    "                i1=i\n",
    "                j1=j\n",
    "        arr[i1][j1]=arr[i][i]\n",
    "        arr[i][i]=max\n",
    "        print(arr)                 \n",
    "\n",
    "    return arr\n",
    "\n",
    "n=int(input())\n",
    "a=np.array([0]*(n*n))\n",
    "for i in range(0,(n*n)):\n",
    "    b=int(input())\n",
    "    a[i]=b\n",
    "arr=a.reshape(n,n)\n",
    "    \n",
    "print(\"Original matrix: \")\n",
    "print(arr)\n",
    "print(\"_\"*100,\"\\n\")\n",
    "\n",
    "A = diagonallyDominant(arr,n, verbose=True)\n",
    "print(\"_\"*100,\"\\n\")\n",
    "\n",
    "print(\"Matrix obtained is: \")\n",
    "print(A)\n",
    "row_sum=0\n",
    "cnt=0\n",
    "sum=0\n",
    "arr=A\n",
    "for i in range(0,n):\n",
    "    max=abs(arr[i][i])\n",
    "    sum=0\n",
    "    for j in range(0,n):\n",
    "     sum=sum+abs(arr[i][j])\n",
    "    sum=sum-max\n",
    "    if(max>=sum):\n",
    "        cnt=cnt+1\n",
    "    else:\n",
    "       print(\"Row index =\",end=\" \")\n",
    "       print(i)\n",
    "       print(\"Elements :\",end=\" \")\n",
    "       for g in range(0,n):\n",
    "          print(arr[i][g],end=\" \")\n",
    "\n",
    "print()\n",
    "if (cnt==n):\n",
    "  print(f\"{A} is diagonally dominant\")\n",
    "  \n",
    "else :\n",
    "  print(f\"{A} \\n is not diagonally dominant\")"
   ]
  },
  {
   "cell_type": "code",
   "execution_count": 7,
   "id": "29de4135-55e4-477b-8b62-ec6e99915df3",
   "metadata": {},
   "outputs": [
    {
     "data": {
      "image/png": "[encoded data removed]",
      "text/plain": [
       "<Figure size 640x480 with 1 Axes>"
      ]
     },
     "metadata": {},
     "output_type": "display_data"
    }
   ],
   "source": [
    "\n",
    "from matplotlib import pyplot as plt\n",
    "import numpy as np\n",
    "import math\n",
    "def fun(x_val):\n",
    "    return(np.maximum(0,x_val))\n",
    "    \n",
    "x_val = np.linspace(-100,100, 10000)\n",
    "ans=fun(x_val)\n",
    "plt.plot(x_val,ans)\n",
    "plt.show()\n"
   ]
  },
  {
   "cell_type": "code",
   "execution_count": 8,
   "id": "966bf670-a078-4234-b31f-33b85873a893",
   "metadata": {},
   "outputs": [
    {
     "data": {
      "image/png": "[encoded data removed]",
      "text/plain": [
       "<Figure size 640x480 with 1 Axes>"
      ]
     },
     "metadata": {},
     "output_type": "display_data"
    }
   ],
   "source": [
    "from matplotlib import pyplot as plt\n",
    "import numpy as np\n",
    "import math\n",
    "def fun(x_val):\n",
    "    return(1/(1+np.exp(-x_val)))\n",
    "\n",
    "def fun1(x_val):\n",
    "    return((np.exp(x_val)-np.exp(-x_val))/(np.exp(x_val)+np.exp(-x_val)))\n",
    "\n",
    "    \n",
    "x_val = np.linspace(-100,100, 10000)\n",
    "ans=fun(x_val)\n",
    "plt.plot(x_val,ans)\n",
    "ans1=fun1(x_val)\n",
    "plt.plot(x_val,ans1)\n",
    "plt.show()"
   ]
  },
  {
   "cell_type": "code",
   "execution_count": 10,
   "id": "39e41e4f-98f1-4005-bbad-db770a8cf9cd",
   "metadata": {},
   "outputs": [
    {
     "name": "stdin",
     "output_type": "stream",
     "text": [
      " 5\n",
      " 90\n",
      " 69\n",
      " 0\n",
      " -1\n",
      " -3\n",
      " 4\n",
      " 406\n",
      " 3\n",
      " 7\n",
      " 2\n",
      " 11\n",
      " -12\n",
      " 43\n",
      " -3\n",
      " 33\n",
      " 7\n",
      " 7\n",
      " -1\n",
      " -100\n",
      " -9\n",
      " 11\n",
      " 62\n",
      " 2\n",
      " 1\n",
      " 100\n"
     ]
    },
    {
     "data": {
      "image/png": "[encoded data removed]",
      "text/plain": [
       "<Figure size 640x480 with 1 Axes>"
      ]
     },
     "metadata": {},
     "output_type": "display_data"
    }
   ],
   "source": [
    "from matplotlib import pyplot as plt\n",
    "import numpy as np\n",
    "import math\n",
    "\n",
    "def fun(x_val):\n",
    "    return(np.maximum(0,x_val))\n",
    "\n",
    "def fun2(x_val):\n",
    "    return(1/(1+np.exp(-x_val)))\n",
    "\n",
    "def fun1(x_val):\n",
    "    return((np.exp(x_val)-np.exp(-x_val))/(np.exp(x_val)+np.exp(-x_val)))\n",
    "\n",
    "n=int(input())\n",
    "a=np.array([0]*(n*n))\n",
    "for i in range(0,(n*n)):\n",
    "    b=int(input())\n",
    "    a[i]=b\n",
    "arr=a.reshape(n,n)\n",
    "\n",
    "x_val=np.array([0]*n)\n",
    "for i in range(0,n):\n",
    "    x_val[i]=arr[i][i]\n",
    "        \n",
    "\n",
    "ans=fun(x_val)\n",
    "plt.scatter(x_val,ans,color='blue')\n",
    "ans1=fun2(x_val)\n",
    "plt.scatter(x_val,ans1)\n",
    "ans2=fun1(x_val)\n",
    "plt.scatter(x_val,ans2)\n",
    "plt.show()"
   ]
  },
  {
   "cell_type": "code",
   "execution_count": 11,
   "id": "d9dfbc42-ddab-4f9f-b68c-23ef3e08e43b",
   "metadata": {},
   "outputs": [
    {
     "name": "stdin",
     "output_type": "stream",
     "text": [
      " 5\n",
      " 90\n",
      " 69\n",
      " 0\n",
      " -1\n",
      " -3\n",
      " 4\n",
      " 406\n",
      " 3\n",
      " 7\n",
      " 2\n",
      " 11\n",
      " -12\n",
      " 43\n",
      " -3\n",
      " 33\n",
      " 7\n",
      " 7\n",
      " -1\n",
      " -100\n",
      " -9\n",
      " 11\n",
      " 62\n",
      " 2\n",
      " 1\n",
      " 100\n"
     ]
    },
    {
     "name": "stdout",
     "output_type": "stream",
     "text": [
      "[5.79353612e-138 1.00000000e+000 2.24441452e-158 1.76600593e-220\n",
      " 1.27611125e-133]\n"
     ]
    }
   ],
   "source": [
    "from matplotlib import pyplot as plt\n",
    "import numpy as np\n",
    "import math\n",
    "\n",
    "def softmax(arr,n):\n",
    "    k=0.0\n",
    "    for i in range(0,n):\n",
    "        k=np.exp(arr[i])+k\n",
    "  \n",
    "    for i in range(0,n):\n",
    "        arr[i]=np.exp(arr[i])/k\n",
    "    return(arr)               \n",
    "\n",
    "\n",
    "\n",
    "n=int(input())\n",
    "a=np.array([0.0]*(n*n))\n",
    "for i in range(0,(n*n)):\n",
    "    b=int(input())\n",
    "    a[i]=b\n",
    "arr=a.reshape(n,n)\n",
    "\n",
    "x_val=np.array([0.0]*n)\n",
    "for i in range(0,n):\n",
    "    x_val[i]=arr[i][i]\n",
    "\n",
    "ans=softmax(x_val,n)\n",
    "print(ans)  "
   ]
  },
  {
   "cell_type": "code",
   "execution_count": 12,
   "id": "af54f308-51fa-4d66-b52c-9e30ddf903c2",
   "metadata": {},
   "outputs": [
    {
     "name": "stdin",
     "output_type": "stream",
     "text": [
      " 5\n",
      " 90\n",
      " 69\n",
      " 0\n",
      " -1\n",
      " -3\n",
      " 4\n",
      " 406\n",
      " 3\n",
      " 7\n",
      " 2\n",
      " 11\n",
      " -112\n",
      " 43\n",
      " -3\n",
      " 33\n",
      " 7\n",
      " 7\n",
      " -1\n",
      " -100\n",
      " -9\n",
      " 11\n",
      " 62\n",
      " 2\n",
      " 1\n",
      " 100\n"
     ]
    },
    {
     "name": "stdout",
     "output_type": "stream",
     "text": [
      "[5.79353612e-138 1.00000000e+000 2.24441452e-158 1.76600593e-220\n",
      " 1.27611125e-133]\n"
     ]
    },
    {
     "data": {
      "image/png": "[encoded data removed]",
      "text/plain": [
       "<Figure size 640x480 with 1 Axes>"
      ]
     },
     "metadata": {},
     "output_type": "display_data"
    }
   ],
   "source": [
    "from matplotlib import pyplot as plt\n",
    "import numpy as np\n",
    "import math\n",
    "\n",
    "def softmax(arr,n):\n",
    "    k=0.0\n",
    "    for i in range(0,n):\n",
    "        k=np.exp(arr[i])+k\n",
    "  \n",
    "    for i in range(0,n):\n",
    "        arr[i]=np.exp(arr[i])/k\n",
    "    return(arr)               \n",
    "\n",
    "\n",
    "\n",
    "n=int(input())\n",
    "a=np.array([0.0]*(n*n))\n",
    "for i in range(0,(n*n)):\n",
    "    b=int(input())\n",
    "    a[i]=b\n",
    "arr=a.reshape(n,n)\n",
    "\n",
    "x_val=np.array([0.0]*n)\n",
    "for i in range(0,n):\n",
    "    x_val[i]=arr[i][i]\n",
    "\n",
    "l=x_val.copy()\n",
    "ans=softmax(x_val,n)\n",
    "print(ans)  \n",
    "\n",
    "plt.scatter(ans,l,color='blue')\n",
    "plt.show()\n"
   ]
  },
  {
   "cell_type": "code",
   "execution_count": 13,
   "id": "ca8366bf-3d24-4610-9d64-c57f63c04e8c",
   "metadata": {},
   "outputs": [
    {
     "name": "stdin",
     "output_type": "stream",
     "text": [
      " 5\n",
      " 90\n",
      " 69\n",
      " 0\n",
      " -1\n",
      " -3\n",
      " 4\n",
      " 406\n",
      " 3\n",
      " 7\n",
      " 2\n",
      " 11\n",
      " -12\n",
      " 43\n",
      " -3\n",
      " 33\n",
      " 7\n",
      " 7\n",
      " -1\n",
      " -100\n",
      " -9\n",
      " 11\n",
      " 62\n",
      " 2\n",
      " 1\n",
      " 100\n"
     ]
    },
    {
     "name": "stdout",
     "output_type": "stream",
     "text": [
      "90.0  : Not a max element in all diagonal elements\n",
      "\n",
      "43.0  : Not a max element in all diagonal elements\n",
      "\n",
      "-100.0  : Not a max element in all diagonal elements\n",
      "\n",
      "100.0  : Not a max element in all diagonal elements\n",
      "\n",
      "406.0  :Max element in all diagonal elements\n"
     ]
    }
   ],
   "source": [
    "from matplotlib import pyplot as plt\n",
    "import numpy as np\n",
    "import math\n",
    "\n",
    "def softmax(arr,n):\n",
    "    k=0.0\n",
    "    for i in range(0,n):\n",
    "        k=np.exp(arr[i])+k\n",
    "  \n",
    "    for i in range(0,n):\n",
    "        arr[i]=np.exp(arr[i])/k\n",
    "    return(arr)               \n",
    "\n",
    "\n",
    "\n",
    "n=int(input())\n",
    "a=np.array([0.0]*(n*n))\n",
    "for i in range(0,(n*n)):\n",
    "    b=int(input())\n",
    "    a[i]=b\n",
    "arr=a.reshape(n,n)\n",
    "\n",
    "x_val=np.array([0.0]*n)\n",
    "for i in range(0,n):\n",
    "    x_val[i]=arr[i][i]\n",
    "\n",
    "l=x_val.copy()\n",
    "ans=softmax(x_val,n)\n",
    "\n",
    "max=ans[0]\n",
    "index=0\n",
    "for i in range(0,n):\n",
    "    if(max<ans[i]):\n",
    "        max=ans[i]\n",
    "        index=i\n",
    "\n",
    "for i in range(0,n):\n",
    "    if(ans[i]!=max):\n",
    "        print(l[i],end=\" \")\n",
    "        print(\" : Not a max element in all diagonal elements\")\n",
    "        print()\n",
    "print(l[index],end=\" \")\n",
    "print(\" :Max element in all diagonal elements\")"
   ]
  },
  {
   "cell_type": "code",
   "execution_count": null,
   "id": "57ff506e-2f7e-445c-893b-6c3d88737344",
   "metadata": {},
   "outputs": [],
   "source": [
    "Softmax function\n",
    "It is a mathematical function which converts array of numbers into array of probability. It is widely used in ML to convert raw data into \n",
    "probability along with normalisation of the values. for a given data set if for a particular value the set gives highest probability then \n",
    "it means that value affects the given model the most, and we can also remove some data set of least probability as per requirement.\n",
    "we can also determine a threshold probability value above which we can declare the given model as accurate.Here in this case 406 shows the \n",
    "highest probability while -100 shows the least."
   ]
  },
  {
   "cell_type": "code",
   "execution_count": null,
   "id": "a7b71b17-8f16-4875-9a60-97c51f563432",
   "metadata": {},
   "outputs": [],
   "source": [
    "Assignment 1 part 2"
   ]
  },
  {
   "cell_type": "code",
   "execution_count": null,
   "id": "bf19b342-ddf4-4bd6-8986-fa880917d7ab",
   "metadata": {},
   "outputs": [],
   "source": [
    "For supervised learning(or classification) \n",
    "Supervised learning is basically a teaching and learning method where the machine learns from a given data set and implement the same \n",
    "learning on a new data set.we train machine with a labelled data set and then checks its learning on a new unlabelled data set. \n",
    "It can be classified into two types regression and classification \n",
    "Regression works on continuous values.\n",
    "Classification basically means giving answer in true or false for example if a given email is spam or not , or whether it will rain or not.\n",
    "We keep on testing this model on different test cases and tries to increase its accuracy."
   ]
  },
  {
   "cell_type": "code",
   "execution_count": null,
   "id": "3cb62e9f-b9e8-4030-8ab4-7b8f207c1e97",
   "metadata": {},
   "outputs": [],
   "source": [
    "Unsupervised learning(or clustering)\n",
    "Essentially it means learning on its own. We do not train machine with labelled data and directly implements it on unlabelled data and the \n",
    "machine tries to find similar data by identifying similar patterns , colour and shape and store it as a cluster.\n",
    "Unsupervised can be used for recommending movies, song, books ,or clothes  as the model observes similarity in pattern and behaviour of \n",
    "various users. \n",
    "Unsupervised learning is uncertain as compared to supervised learning because firstly it works on a model to identify similar patterns which \n",
    "makes this work a bit challenging and it does not have a clear objective like it involves identifying similar patterns and then clustering it\n",
    "or reducing  the dimensionality of data set which somewhat affects the accuracy of the model."
   ]
  },
  {
   "cell_type": "code",
   "execution_count": null,
   "id": "02ff4910-ab35-4e1e-be5b-76a3f4d4321f",
   "metadata": {},
   "outputs": [],
   "source": [
    "Reinforcement learning\n",
    "It’s a kind of hit and trial method. The models tries every possible path to reach the solution and then chooses the most optimal path for \n",
    "the problem. The  model completely depends not the decision taken by the software without having any previous experience. It is autonomous. \n",
    "Tesla uses reinforcement learning where the car learns the control and navigate itself in various tricky situations.\n",
    "\n",
    "Both supervised and reinforcement learning have their own strengths and weaknesses like supervised learning is more preferred in case of \n",
    "static and less interactive environment where as reinforcement learning is more preferred for dynamically changing data set and more \n",
    "interactive environment. "
   ]
  },
  {
   "cell_type": "code",
   "execution_count": null,
   "id": "8ae46fe4-f4b5-497e-97e7-35efb572bb41",
   "metadata": {},
   "outputs": [],
   "source": [
    "Machine learning vs deep learning \n",
    "Deep learning is a subset of machine learning. In machine learning we use supervised learning which requires human intervention whereas in \n",
    "deep learning we use unsupervised learning where the computer itself find abstracts similar patterns by passing data through different layers \n",
    "and tells us about the output and can also work on a large data set. Deep learning involves more than 3 layers. Deep learning requires a \n",
    "large amount of data to work on and can produce more accurate results than machine learning.machine learning relies on human input which \n",
    "limits the model ability to work on new data set.\n",
    "Deep learning has its own disadvantages like it requires a large amount of labelled data to produce more efficient results and those data \n",
    "sets are expensive whereas ML can produce somewhat same result with less data. Deep learning also requires GPUs which more expensive as\n",
    "compared to CPUs. Developing models of linear regression are more preferred in ML as it does the task in a more simple way.\n",
    "Both have their own strengths and weaknesses so we should choose between the two on the basis of our problem statement. "
   ]
  },
  {
   "cell_type": "code",
   "execution_count": 16,
   "id": "2a47d914-517d-4879-822a-4ba40b0b28f5",
   "metadata": {},
   "outputs": [
    {
     "name": "stdin",
     "output_type": "stream",
     "text": [
      " 121\n"
     ]
    },
    {
     "name": "stdout",
     "output_type": "stream",
     "text": [
      "true\n"
     ]
    }
   ],
   "source": [
    "def palin(num):\n",
    "  a=num\n",
    "  rev=0\n",
    "  while(a>0):\n",
    "       b=a%10\n",
    "       rev=rev*10+b\n",
    "       \n",
    "       a=a//10\n",
    "  \n",
    "  if(rev==num):\n",
    "      return 1\n",
    "  else:\n",
    "      return 0\n",
    "  \n",
    "\n",
    "num1=int(input())\n",
    "ans=palin(num1)\n",
    "if(ans==1):\n",
    "    print(\"true\")\n",
    "else:\n",
    "    print(\"false\")"
   ]
  },
  {
   "cell_type": "code",
   "execution_count": 19,
   "id": "41e7a1e3-fdab-4c51-83a2-e45caa793b97",
   "metadata": {},
   "outputs": [
    {
     "name": "stdout",
     "output_type": "stream",
     "text": [
      "[10 58 56 97 44 20 12 72 54 14]\n",
      "43.7\n",
      "10\n",
      "97\n"
     ]
    }
   ],
   "source": [
    "import random\n",
    "import numpy as np\n",
    "arr=np.array([0]*10)\n",
    "for i in range(0,10):\n",
    "    arr[i]=random.randint(1,100)\n",
    "\n",
    "print(arr)\n",
    "print(arr.mean())\n",
    "print(arr.min())\n",
    "print(arr.max())   \n"
   ]
  },
  {
   "cell_type": "code",
   "execution_count": 18,
   "id": "1c963f31-9e3a-4214-ba3e-a72ab575091e",
   "metadata": {},
   "outputs": [
    {
     "name": "stdout",
     "output_type": "stream",
     "text": [
      "  Name  Age      City\n",
      "0    A   21   Lucknow\n",
      "1    B   31    Bombay\n",
      "2    C   35  Mussorie\n",
      "  Name  Age      City\n",
      "1    B   31    Bombay\n",
      "2    C   35  Mussorie\n",
      "  Name  Age      City  Salary\n",
      "0    A   21   Lucknow   50000\n",
      "1    B   31    Bombay   60000\n",
      "2    C   35  Mussorie   70000\n",
      "City\n",
      "Bombay      31.0\n",
      "Lucknow     21.0\n",
      "Mussorie    35.0\n",
      "Name: Age, dtype: float64\n"
     ]
    },
    {
     "data": {
      "image/png": "[encoded data removed]",
      "text/plain": [
       "<Figure size 640x480 with 1 Axes>"
      ]
     },
     "metadata": {},
     "output_type": "display_data"
    },
    {
     "data": {
      "image/png": "[encoded data removed]",
      "text/plain": [
       "<Figure size 640x480 with 1 Axes>"
      ]
     },
     "metadata": {},
     "output_type": "display_data"
    },
    {
     "data": {
      "image/png": "[encoded data removed]",
      "text/plain": [
       "<Figure size 640x480 with 1 Axes>"
      ]
     },
     "metadata": {},
     "output_type": "display_data"
    }
   ],
   "source": [
    "import pandas as pd\n",
    "import matplotlib.pyplot as plt\n",
    "df=pd.DataFrame({'Name':['A','B','C'],\n",
    "                 'Age':[21,31,35],\n",
    "                 'City':['Lucknow','Bombay','Mussorie']})\n",
    "print(df)\n",
    "print(df.query('Age>30'))\n",
    "df['Salary']=[50000,60000,70000]\n",
    "print(df)\n",
    "by_city=df.groupby(['City'])\n",
    "print(by_city['Age'].mean())\n",
    "plt.title(\"Age vs Salary\")\n",
    "plt.scatter(df['Age'],df['Salary'])\n",
    "plt.show()\n",
    "plt.title(\"City vs Age\")\n",
    "plt.bar(df['City'],df['Age'])\n",
    "plt.show()\n",
    "plt.title(\"Mean salary vs City\")\n",
    "plt.pie(by_city['Salary'].mean(),labels=by_city)\n",
    "plt.show()"
   ]
  },
  {
   "cell_type": "code",
   "execution_count": null,
   "id": "edf514c7-1804-4487-bb2a-060279c2a6bc",
   "metadata": {},
   "outputs": [],
   "source": []
  }
 ],
 "metadata": {
  "kernelspec": {
   "display_name": "Python 3 (ipykernel)",
   "language": "python",
   "name": "python3"
  },
  "language_info": {
   "codemirror_mode": {
    "name": "ipython",
    "version": 3
   },
   "file_extension": ".py",
   "mimetype": "text/x-python",
   "name": "python",
   "nbconvert_exporter": "python",
   "pygments_lexer": "ipython3",
   "version": "3.12.3"
  }
 },
 "nbformat": 4,
 "nbformat_minor": 5
}
